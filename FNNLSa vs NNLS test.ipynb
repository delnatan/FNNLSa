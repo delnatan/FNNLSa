{
 "cells": [
  {
   "cell_type": "code",
   "execution_count": 1,
   "metadata": {},
   "outputs": [
    {
     "name": "stdout",
     "output_type": "stream",
     "text": [
      "True rates at : 0.01710, 0.10183\n"
     ]
    }
   ],
   "source": [
    "import numpy as np\n",
    "import matplotlib.pyplot as plt\n",
    "from scipy.optimize import nnls\n",
    "from FNNLS import FNNLSa\n",
    "\n",
    "# set random seed for reproducing test\n",
    "np.random.seed(777)\n",
    "\n",
    "# nu, sample decay rate, frequency-domain\n",
    "nu     = np.linspace(0.005, 0.15, 600)\n",
    "del_nu = nu[1]-nu[0]\n",
    "\n",
    "# t, time-domain\n",
    "t = np.linspace(0.0, 80.0, 1000)\n",
    "\n",
    "# Exponential transform matrix, converts decay rate to time-domain\n",
    "R = np.exp(-np.outer(t, nu))\n",
    "\n",
    "# Distribution of rates, P(nu). Or coefficients of each rate\n",
    "rate_id    = [50,400]\n",
    "weights    = np.zeros_like(nu)\n",
    "\n",
    "true_rates = [nu[k]*1.0 for k in rate_id]\n",
    "\n",
    "print(\"True rates at : {0:.5f}, {1:.5f}\".format(*true_rates))\n",
    "\n",
    "# weights for each rate\n",
    "weights[rate_id[0]] = 0.6\n",
    "weights[rate_id[1]] = 0.4\n",
    "\n",
    "# generate some noisy data\n",
    "noise_g = np.random.randn(t.size) * 0.002\n",
    "Yobs    = R @ weights + noise_g"
   ]
  },
  {
   "cell_type": "code",
   "execution_count": 3,
   "metadata": {},
   "outputs": [
    {
     "name": "stdout",
     "output_type": "stream",
     "text": [
      "41 ms ± 358 µs per loop (mean ± std. dev. of 7 runs, 10 loops each)\n"
     ]
    }
   ],
   "source": [
    "# for NNLS\n",
    "RtR = R.T @ R\n",
    "Rtb = R.T @ Yobs\n",
    "\n",
    "# solve for decay rates\n",
    "%timeit nu_solved, _ = nnls(R, Yobs)\n"
   ]
  },
  {
   "cell_type": "code",
   "execution_count": 4,
   "metadata": {},
   "outputs": [
    {
     "name": "stdout",
     "output_type": "stream",
     "text": [
      "9.73 ms ± 51.7 µs per loop (mean ± std. dev. of 7 runs, 100 loops each)\n"
     ]
    }
   ],
   "source": [
    "%timeit nu_solved_fnnls, _ = FNNLSa(RtR, Rtb)"
   ]
  },
  {
   "cell_type": "code",
   "execution_count": 10,
   "metadata": {},
   "outputs": [
    {
     "data": {
      "text/plain": [
       "<matplotlib.legend.Legend at 0x1119d0ba8>"
      ]
     },
     "execution_count": 10,
     "metadata": {},
     "output_type": "execute_result"
    },
    {
     "data": {
      "image/png": "[encoded data removed]",
      "text/plain": [
       "<matplotlib.figure.Figure at 0x10feceef0>"
      ]
     },
     "metadata": {},
     "output_type": "display_data"
    }
   ],
   "source": [
    "# overlay plots\n",
    "fig, (freqax, freqax2) = plt.subplots(1,2, figsize=(12,5)) \n",
    "\n",
    "freqax.stem(nu, weights, label='True position')\n",
    "freqax.plot(nu, nu_solved, 'g--', label='NNLS solution')\n",
    "freqax.set_xlabel(\"Decay rates, $sec^{-1}$\")\n",
    "freqax.legend()\n",
    "\n",
    "freqax2.stem(nu, weights, label='True position')\n",
    "freqax2.plot(nu, nu_solved_fnnls, 'r-', label='FNNLS solution')\n",
    "freqax.set_xlabel(\"Decay rates, $sec^{-1}$\")\n",
    "freqax2.legend()\n"
   ]
  },
  {
   "cell_type": "code",
   "execution_count": null,
   "metadata": {},
   "outputs": [],
   "source": []
  }
 ],
 "metadata": {
  "kernelspec": {
   "display_name": "Python 3",
   "language": "python",
   "name": "python3"
  },
  "language_info": {
   "codemirror_mode": {
    "name": "ipython",
    "version": 3
   },
   "file_extension": ".py",
   "mimetype": "text/x-python",
   "name": "python",
   "nbconvert_exporter": "python",
   "pygments_lexer": "ipython3",
   "version": "3.6.4"
  }
 },
 "nbformat": 4,
 "nbformat_minor": 2
}
